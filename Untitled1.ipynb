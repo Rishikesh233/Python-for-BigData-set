{
 "cells": [
  {
   "cell_type": "code",
   "execution_count": 168,
   "id": "c1ba5fed",
   "metadata": {},
   "outputs": [],
   "source": [
    "file1 = open('Why_to_learn_programming.txt', 'r')\n",
    "Lines = file1.readlines()"
   ]
  },
  {
   "cell_type": "code",
   "execution_count": 169,
   "id": "4710bf5c",
   "metadata": {},
   "outputs": [],
   "source": [
    "file2=open('output.txt', 'w')"
   ]
  },
  {
   "cell_type": "code",
   "execution_count": null,
   "id": "0d235728",
   "metadata": {},
   "outputs": [],
   "source": []
  },
  {
   "cell_type": "code",
   "execution_count": 170,
   "id": "79f42e89",
   "metadata": {},
   "outputs": [],
   "source": [
    "countprev=\"0.0\"\n",
    "count =0;\n",
    "for f in Lines:\n",
    "    end=float(f.split(\"\\t\")[2])\n",
    "    if float(f.split(\"\\t\")[2])>30:\n",
    "        end=\"30\"\n",
    "    val=f.split(\"\\t\")[1]\n",
    "    \n",
    "    if(float(val)==float(countprev)):\n",
    "        pass\n",
    "    else:\n",
    "        for i in range(round((float(val)-float(countprev))*100)):\n",
    "            file2.write(\"0\"+\"\\n\")\n",
    "            count+=1\n",
    "#     print(round((float(f.split(\"\\t\")[2])-float(f.split(\"\\t\")[1]))*100))\n",
    "    for j in range(round((float(end)-float(f.split(\"\\t\")[1]))*100)):\n",
    "        count+=1\n",
    "        \n",
    "        file2.write(\"1\"+\"\\n\")\n",
    "    countprev=f.split(\"\\t\")[2]\n",
    "    if(int(float(countprev))>=30):\n",
    "        break"
   ]
  },
  {
   "cell_type": "code",
   "execution_count": 171,
   "id": "5fc8dc4e",
   "metadata": {},
   "outputs": [],
   "source": [
    "file2.close()"
   ]
  },
  {
   "cell_type": "code",
   "execution_count": 172,
   "id": "57b94504",
   "metadata": {},
   "outputs": [
    {
     "data": {
      "text/plain": [
       "3000"
      ]
     },
     "execution_count": 172,
     "metadata": {},
     "output_type": "execute_result"
    }
   ],
   "source": [
    "count"
   ]
  },
  {
   "cell_type": "code",
   "execution_count": 2,
   "id": "68605673",
   "metadata": {},
   "outputs": [
    {
     "data": {
      "text/plain": [
       "'dddcee.txt'"
      ]
     },
     "execution_count": 2,
     "metadata": {},
     "output_type": "execute_result"
    }
   ],
   "source": []
  },
  {
   "cell_type": "code",
   "execution_count": 7,
   "id": "57e945a0",
   "metadata": {},
   "outputs": [],
   "source": [
    "# import mutagen\n",
    "# from mutagen.mp3 import MP3\n",
    "import os\n",
    "import pandas as pd\n",
    "import numpy as np\n",
    "from vad import VAD\n",
    "\n",
    "professor_names=[]\n",
    "filename_names=[]\n",
    "txtfilename_names=[]\n",
    "professor_names1=[]\n",
    "size=[]\n",
    "length1=[]\n",
    "test=[]\n",
    "trans=[]\n",
    "for dir_path, dir_name, filename in os.walk('/home/sgeadmin/Abhay/Accent_Conversion_Corpuses/NPTEL_Rishi/org_paired_data/dataset_audio_trim/'):\n",
    "    if (filename!=[]&dir_name==[]):\n",
    "        for f in filename:\n",
    "            if(f.split(\".\")[1]==\"wav\"):\n",
    "                fp = os.path.join(dir_path, f)\n",
    "                (sr, signal) = wav.read(fp)\n",
    "                test=VAD(signal, sr, nFFT=512, win_length=0.025, hop_length=0.01, theshold=0.21)\n",
    "    #     elif((filename==[] )& (dir_name==[])):\n",
    "    #         for f in filename:\n",
    "    #             fp = os.path.join(dir_path, f)\n",
    "    #             pathget=fp\n",
    "    #             test=vad\n",
    "                fp_transcripts=f.split(\".\")[0]+'.txt';\n",
    "                trans_path=\"/home/sgeadmin/Abhay/Accent_Conversion_Corpuses/NPTEL_Rishi/org_paired_data/nptel_transcripts_from_api/\"\n",
    "                path_Final=os.path.join(trans_path, fp_transcripts)\n",
    "                if((filename==[] )& (dir_name==[])):\n",
    "                    file1 = open(path_Final, 'r')\n",
    "                    Lines = file1.readlines()\n",
    "                    countprev=\"0.0\"\n",
    "                    for f in Lines:\n",
    "                        val=f.split(\"\\t\")[1]\n",
    "                        end=float(f.split(\"\\t\")[2])\n",
    "                        if float(f.split(\"\\t\")[2])>30:\n",
    "                            end=\"30\"\n",
    "                        if float(f.split(\"\\t\")[1])>30:\n",
    "                            val=\"30\"\n",
    "\n",
    "                        if(float(val)==float(countprev)):\n",
    "                            pass\n",
    "                        else:\n",
    "                            for i in range(round((float(val)-float(countprev))*100)):\n",
    "                                trans.append(\"0\")\n",
    "                        for j in range(round((float(end)-float(val)*100))):\n",
    "                                       trans.append(\"1\")\n",
    "                                       count+=1\n",
    "                        countprev=f.split(\"\\t\")[2]\n",
    "                        if(int(float(countprev))>=30):\n",
    "                                       break\n",
    "                        percentage=0\n",
    "                        count=1\n",
    "                        for i in trans:\n",
    "                            if i==\"1\":\n",
    "                                pass\n",
    "                            elif i==0:\n",
    "                                if test[count]==i:\n",
    "                                    percentage+=1\n",
    "                            count+=1\n",
    "                        length=trans[trans==0]\n",
    "                        percentage=((float(percentage)/float(len(length))))*100\n",
    "                        with open(\"hist.txt\", 'w') as f:\n",
    "                            f.write(str(percentage) + '\\n')\n"
   ]
  },
  {
   "cell_type": "code",
   "execution_count": 18,
   "id": "619fd77b",
   "metadata": {},
   "outputs": [
    {
     "data": {
      "text/plain": [
       "'/Anirban/lecture2'"
      ]
     },
     "execution_count": 18,
     "metadata": {},
     "output_type": "execute_result"
    }
   ],
   "source": [
    "a='/home/sgeadmin/Abhay/Accent_Conversion_Corpuses/NPTEL_Rishi/org_paired_data/dataset_audio_trim/Anirban/lecture2'\n",
    "b=a.split(\"dataset_audio_trim\")[1]\n",
    "b"
   ]
  },
  {
   "cell_type": "code",
   "execution_count": null,
   "id": "fae862c7",
   "metadata": {},
   "outputs": [],
   "source": [
    "# import mutagen\n",
    "# from mutagen.mp3 import MP3\n",
    "import os\n",
    "import pandas as pd\n",
    "import numpy as np\n",
    "from vad import VAD\n",
    "\n",
    "professor_names=[]\n",
    "filename_names=[]\n",
    "txtfilename_names=[]\n",
    "professor_names1=[]\n",
    "size=[]\n",
    "length1=[]\n",
    "test=[]\n",
    "trans=[]\n",
    "for dir_path, dir_name, filename in os.walk('/home/sgeadmin/Abhay/Accent_Conversion_Corpuses/NPTEL_Rishi/org_paired_data/dataset_audio_trim/'):\n",
    "    if (filename!=[]&dir_name==[]):\n",
    "        for f in filename:\n",
    "            if(f.split(\".\")[1]==\"wav\"):\n",
    "                fp = os.path.join(dir_path, f)\n",
    "                (sr, signal) = wav.read(fp)\n",
    "                test=VAD(signal, sr, nFFT=512, win_length=0.025, hop_length=0.01, theshold=0.21)\n",
    "    #     elif((filename==[] )& (dir_name==[])):\n",
    "    #         for f in filename:\n",
    "    #             fp = os.path.join(dir_path, f)\n",
    "    #             pathget=fp\n",
    "    #             test=vad\n",
    "                fp_transcripts=f.split(\".\")[0]+'.txt';\n",
    "                trans_path=\"/home/sgeadmin/Abhay/Accent_Conversion_Corpuses/NPTEL_Rishi/org_paired_data/nptel_transcripts_from_api/\"\n",
    "                path_Final=os.path.join(trans_path, fp_transcripts)\n",
    "                try:\n",
    "                    file1 = open(path_Final, 'r')\n",
    "                    Lines = file1.readlines()\n",
    "                except:\n",
    "                    continue\n",
    "                countprev=\"0.0\"\n",
    "                for f in Lines:\n",
    "                    val=f.split(\"\\t\")[1]\n",
    "                    end=float(f.split(\"\\t\")[2])\n",
    "                    if float(f.split(\"\\t\")[2])>30:\n",
    "                        end=\"30\"\n",
    "                    if float(f.split(\"\\t\")[1])>30:\n",
    "                        val=\"30\"\n",
    "\n",
    "                    if(float(val)==float(countprev)):\n",
    "                        pass\n",
    "                    else:\n",
    "                        for i in range(round((float(val)-float(countprev))*100)):\n",
    "                            trans.append(\"0\")\n",
    "                    for j in range(round((float(end)-float(val)*100))):\n",
    "                        trans.append(\"1\")\n",
    "                        count+=1\n",
    "                    countprev=f.split(\"\\t\")[2]\n",
    "                    if(int(float(countprev))>=30):\n",
    "                        break\n",
    "                percentage=0\n",
    "                count=0\n",
    "                try:\n",
    "                    for i in trans:\n",
    "                        if i==\"1\":\n",
    "                            pass\n",
    "                        elif i==0:\n",
    "                            if str(test[count])==\"i\":\n",
    "                                percentage+=1\n",
    "                        count+=1\n",
    "                    x=sum(x==0 for x in trans)\n",
    "                    percentage=((float(percentage)/float(x)))*100\n",
    "                    with open(\"hist.txt\", 'w') as f:\n",
    "                        f.write(str(percentage) + '\\n')\n",
    "                except:\n",
    "                    pass\n"
   ]
  },
  {
   "cell_type": "code",
   "execution_count": 125,
   "id": "3c40b9bd",
   "metadata": {},
   "outputs": [
    {
     "ename": "IndexError",
     "evalue": "list index out of range",
     "output_type": "error",
     "traceback": [
      "\u001b[1;31m---------------------------------------------------------------------------\u001b[0m",
      "\u001b[1;31mIndexError\u001b[0m                                Traceback (most recent call last)",
      "Input \u001b[1;32mIn [125]\u001b[0m, in \u001b[0;36m<cell line: 5>\u001b[1;34m()\u001b[0m\n\u001b[0;32m      7\u001b[0m     \u001b[38;5;28;01mpass\u001b[39;00m\n\u001b[0;32m      8\u001b[0m \u001b[38;5;28;01melif\u001b[39;00m i\u001b[38;5;241m==\u001b[39m\u001b[38;5;241m0\u001b[39m:\n\u001b[1;32m----> 9\u001b[0m     \u001b[38;5;28;01mif\u001b[39;00m \u001b[43mtest\u001b[49m\u001b[43m[\u001b[49m\u001b[43mcount\u001b[49m\u001b[43m]\u001b[49m\u001b[38;5;241m==\u001b[39mi:\n\u001b[0;32m     10\u001b[0m         percentage\u001b[38;5;241m+\u001b[39m\u001b[38;5;241m=\u001b[39m\u001b[38;5;241m1\u001b[39m\n\u001b[0;32m     11\u001b[0m count\u001b[38;5;241m+\u001b[39m\u001b[38;5;241m=\u001b[39m\u001b[38;5;241m1\u001b[39m\n",
      "\u001b[1;31mIndexError\u001b[0m: list index out of range"
     ]
    }
   ],
   "source": [
    "percentage=0\n",
    "trans=[0,1,1,1,1,0,0,0,0]\n",
    "test= ['0','9']\n",
    "count=0\n",
    "for i in trans:\n",
    "    if i==1:\n",
    "        pass\n",
    "    elif i==0:\n",
    "        if test[count]==i:\n",
    "            percentage+=1\n",
    "    count+=1\n",
    "x=sum(x==0 for x in trans)\n",
    "percentage=((float(percentage)/float(x)))*100\n",
    "with open(\"hist.txt\", 'w') as f:\n",
    "    f.write(str(percentage) + '\\n')\n"
   ]
  },
  {
   "cell_type": "code",
   "execution_count": 130,
   "id": "5aeb77fb",
   "metadata": {},
   "outputs": [
    {
     "data": {
      "text/plain": [
       "list"
      ]
     },
     "execution_count": 130,
     "metadata": {},
     "output_type": "execute_result"
    }
   ],
   "source": [
    "trans=[0,1,1,1,1,0,0,0,0]\n",
    "test= ['0','9']\n",
    "type(trans)"
   ]
  },
  {
   "cell_type": "code",
   "execution_count": 124,
   "id": "fdd12412",
   "metadata": {},
   "outputs": [
    {
     "ename": "AttributeError",
     "evalue": "'int' object has no attribute 'isdigit'",
     "output_type": "error",
     "traceback": [
      "\u001b[1;31m---------------------------------------------------------------------------\u001b[0m",
      "\u001b[1;31mAttributeError\u001b[0m                            Traceback (most recent call last)",
      "Input \u001b[1;32mIn [124]\u001b[0m, in \u001b[0;36m<cell line: 1>\u001b[1;34m()\u001b[0m\n\u001b[1;32m----> 1\u001b[0m \u001b[43mtrans\u001b[49m\u001b[43m[\u001b[49m\u001b[38;5;241;43m0\u001b[39;49m\u001b[43m]\u001b[49m\u001b[38;5;241;43m.\u001b[39;49m\u001b[43misdigit\u001b[49m()\n",
      "\u001b[1;31mAttributeError\u001b[0m: 'int' object has no attribute 'isdigit'"
     ]
    }
   ],
   "source": [
    "trans[0].isdigit()"
   ]
  },
  {
   "cell_type": "code",
   "execution_count": 95,
   "id": "b11af27c",
   "metadata": {},
   "outputs": [],
   "source": [
    "trans=[]\n",
    "count=0;\n",
    "countprev=\"0.0\"\n",
    "file1 = open('Why_to_learn_programming.txt', 'r')\n",
    "Lines = file1.readlines()\n",
    "for f in Lines:\n",
    "    val=f.split(\"\\t\")[1]\n",
    "    end=float(f.split(\"\\t\")[2])\n",
    "    if float(f.split(\"\\t\")[2])>30:\n",
    "        end=\"30\"\n",
    "    if float(f.split(\"\\t\")[1])>30:\n",
    "        val=\"30\"\n",
    "        for i in range(round((float(val)-float(countprev))*100)):\n",
    "            trans.append(0)\n",
    "            \n",
    "        end=\"30\"\n",
    "        break\n",
    "#     print(float(f.split(\"\\t\")[1]),float(f.split(\"\\t\")[2]))\n",
    "\n",
    "    if(float(val)==float(countprev)):\n",
    "        pass\n",
    "    else:\n",
    "        for i in range(round((float(val)-float(countprev))*100)):\n",
    "            trans.append(0)\n",
    "    for j in range(round(((float(end)-float(val))*100))):\n",
    "        trans.append(1)\n",
    "        count+=1\n",
    "    countprev=f.split(\"\\t\")[2]\n",
    "    if(int(float(end))==30):\n",
    "        break\n"
   ]
  },
  {
   "cell_type": "code",
   "execution_count": 110,
   "id": "1108058f",
   "metadata": {},
   "outputs": [],
   "source": [
    "a=np.array(trans)"
   ]
  },
  {
   "cell_type": "code",
   "execution_count": 111,
   "id": "f170b00e",
   "metadata": {},
   "outputs": [],
   "source": [
    "a=a[:2]"
   ]
  },
  {
   "cell_type": "code",
   "execution_count": 112,
   "id": "2e302e5f",
   "metadata": {},
   "outputs": [
    {
     "data": {
      "text/plain": [
       "2"
      ]
     },
     "execution_count": 112,
     "metadata": {},
     "output_type": "execute_result"
    }
   ],
   "source": [
    "a.size"
   ]
  },
  {
   "cell_type": "code",
   "execution_count": 113,
   "id": "cd22f7ab",
   "metadata": {},
   "outputs": [
    {
     "data": {
      "text/plain": [
       "array([1, 1])"
      ]
     },
     "execution_count": 113,
     "metadata": {},
     "output_type": "execute_result"
    }
   ],
   "source": [
    "a"
   ]
  },
  {
   "cell_type": "code",
   "execution_count": 1,
   "id": "4a0e5091",
   "metadata": {},
   "outputs": [],
   "source": [
    "f=open('hist.txt','r')"
   ]
  },
  {
   "cell_type": "code",
   "execution_count": 2,
   "id": "de912ef3",
   "metadata": {},
   "outputs": [],
   "source": [
    "Lines = f.readlines()"
   ]
  },
  {
   "cell_type": "code",
   "execution_count": 15,
   "id": "847a175e",
   "metadata": {},
   "outputs": [],
   "source": [
    "final=[]\n",
    "i=0\n",
    "for a in Lines:\n",
    "    final1=(a.split(\"\\n\")[0])\n",
    "    final.append(final1)"
   ]
  },
  {
   "cell_type": "code",
   "execution_count": 19,
   "id": "ef5da507",
   "metadata": {},
   "outputs": [],
   "source": [
    "type(final)\n",
    "test_list=[]"
   ]
  },
  {
   "cell_type": "code",
   "execution_count": 23,
   "id": "706de951",
   "metadata": {},
   "outputs": [],
   "source": [
    "for i in range(1, len(final)):\n",
    "    test_list.append(float(final[i]))"
   ]
  },
  {
   "cell_type": "code",
   "execution_count": 30,
   "id": "40def578",
   "metadata": {},
   "outputs": [],
   "source": [
    "import matplotlib.pyplot as plt\n",
    "import numpy as np"
   ]
  },
  {
   "cell_type": "code",
   "execution_count": 31,
   "id": "0e4a957b",
   "metadata": {},
   "outputs": [
    {
     "data": {
      "text/plain": [
       "(array([112.,  59.,  81.,  79.,  72.,  68.,  53.,  30.,  15.,  13.]),\n",
       " array([ 0.        ,  9.05882353, 18.11764706, 27.17647059, 36.23529412,\n",
       "        45.29411765, 54.35294118, 63.41176471, 72.47058824, 81.52941176,\n",
       "        90.58823529]),\n",
       " <BarContainer object of 10 artists>)"
      ]
     },
     "execution_count": 31,
     "metadata": {},
     "output_type": "execute_result"
    },
    {
     "data": {
      "image/png": "[encoded data removed]",
      "text/plain": [
       "<Figure size 432x288 with 1 Axes>"
      ]
     },
     "metadata": {
      "needs_background": "light"
     },
     "output_type": "display_data"
    }
   ],
   "source": [
    "plt.hist(test_list)"
   ]
  },
  {
   "cell_type": "code",
   "execution_count": null,
   "id": "9682ff29",
   "metadata": {},
   "outputs": [],
   "source": []
  }
 ],
 "metadata": {
  "kernelspec": {
   "display_name": "Python 3 (ipykernel)",
   "language": "python",
   "name": "python3"
  },
  "language_info": {
   "codemirror_mode": {
    "name": "ipython",
    "version": 3
   },
   "file_extension": ".py",
   "mimetype": "text/x-python",
   "name": "python",
   "nbconvert_exporter": "python",
   "pygments_lexer": "ipython3",
   "version": "3.9.12"
  }
 },
 "nbformat": 4,
 "nbformat_minor": 5
}
